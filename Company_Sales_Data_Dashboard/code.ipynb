{
 "cells": [
  {
   "cell_type": "markdown",
   "id": "9b6ed76f",
   "metadata": {},
   "source": [
    "# Company_Sales_Data_Dashboard\n"
   ]
  },
  {
   "cell_type": "code",
   "execution_count": 41,
   "id": "c7c99817",
   "metadata": {},
   "outputs": [],
   "source": [
    "import pandas as pd"
   ]
  },
  {
   "cell_type": "code",
   "execution_count": null,
   "id": "7ef0c646",
   "metadata": {},
   "outputs": [],
   "source": [
    "df = pd.read_csv('data.csv')"
   ]
  },
  {
   "cell_type": "markdown",
   "id": "720bb02e",
   "metadata": {},
   "source": [
    "# total sale of each Product"
   ]
  },
  {
   "cell_type": "code",
   "execution_count": 43,
   "id": "4da4a854",
   "metadata": {},
   "outputs": [],
   "source": [
    "df['Units_Sold'] = df['Units_Sold'].fillna(int(df['Units_Sold'].mean()))\n",
    "df['Units_Sold'] = df['Units_Sold'].astype(int)\n",
    "\n",
    "df['Unit_Price'] = df['Unit_Price'].fillna(df['Unit_Price'].mean())\n",
    "\n",
    "total_sale_pdt = df.groupby('Product')['Units_Sold'].sum()\n",
    "total_sale_pdt.to_csv('total_sale_pdt.csv')\n"
   ]
  },
  {
   "cell_type": "markdown",
   "id": "08ae046d",
   "metadata": {},
   "source": [
    "## Region-wise sales"
   ]
  },
  {
   "cell_type": "code",
   "execution_count": 44,
   "id": "e355065f",
   "metadata": {},
   "outputs": [],
   "source": [
    "Region_sale = df.groupby('Region')['Units_Sold'].sum()\n",
    "Region_sale.to_csv('Region_sale.csv')"
   ]
  },
  {
   "cell_type": "markdown",
   "id": "523a0b6f",
   "metadata": {},
   "source": [
    "# top saling Product"
   ]
  },
  {
   "cell_type": "code",
   "execution_count": 45,
   "id": "c5a10913",
   "metadata": {},
   "outputs": [
    {
     "name": "stdout",
     "output_type": "stream",
     "text": [
      "The name of the top saling product is:  Mouse\n"
     ]
    }
   ],
   "source": [
    "top = df.loc[df['Units_Sold'].idxmax()]\n",
    "print(\"The name of the top saling product is: \",top['Product'])"
   ]
  },
  {
   "cell_type": "markdown",
   "id": "93b2cb8b",
   "metadata": {},
   "source": [
    "# monthly growth"
   ]
  },
  {
   "cell_type": "code",
   "execution_count": null,
   "id": "e46e61ee",
   "metadata": {},
   "outputs": [],
   "source": [
    "\n",
    "\n",
    "df['Date'] = pd.to_datetime(df['Date'])\n",
    "\n",
    "df['Units_Sold'] = df['Units_Sold'].fillna(round(df['Units_Sold'].mean())).astype(int)\n",
    "\n",
    "df['Month'] = df['Date'].dt.to_period('M')\n",
    "monthly_sales = df.groupby('Month')['Units_Sold'].sum()\n",
    "\n",
    "\n",
    "monthly_growth = monthly_sales.pct_change().fillna(0) * 100\n",
    "monthly_growth.to_csv('monthly_growth.csv')"
   ]
  },
  {
   "cell_type": "code",
   "execution_count": null,
   "id": "60872d2b",
   "metadata": {},
   "outputs": [],
   "source": []
  }
 ],
 "metadata": {
  "kernelspec": {
   "display_name": "Python 3",
   "language": "python",
   "name": "python3"
  },
  "language_info": {
   "codemirror_mode": {
    "name": "ipython",
    "version": 3
   },
   "file_extension": ".py",
   "mimetype": "text/x-python",
   "name": "python",
   "nbconvert_exporter": "python",
   "pygments_lexer": "ipython3",
   "version": "3.12.0"
  }
 },
 "nbformat": 4,
 "nbformat_minor": 5
}
